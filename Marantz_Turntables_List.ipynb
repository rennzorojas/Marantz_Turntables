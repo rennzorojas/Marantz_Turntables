{
  "nbformat": 4,
  "nbformat_minor": 0,
  "metadata": {
    "colab": {
      "provenance": [],
      "authorship_tag": "ABX9TyMlO8BsFAXB8q0NF5ppU+ei",
      "include_colab_link": true
    },
    "kernelspec": {
      "name": "ir",
      "display_name": "R"
    },
    "language_info": {
      "name": "R"
    }
  },
  "cells": [
    {
      "cell_type": "markdown",
      "metadata": {
        "id": "view-in-github",
        "colab_type": "text"
      },
      "source": [
        "<a href=\"https://colab.research.google.com/github/rennzorojas/Marantz_Turntables/blob/main/Marantz_Turntables_List.ipynb\" target=\"_parent\"><img src=\"https://colab.research.google.com/assets/colab-badge.svg\" alt=\"Open In Colab\"/></a>"
      ]
    },
    {
      "cell_type": "markdown",
      "source": [],
      "metadata": {
        "id": "8d1Nti94FfMn"
      }
    },
    {
      "cell_type": "code",
      "execution_count": null,
      "metadata": {
        "id": "sFzYENo77QjY"
      },
      "outputs": [],
      "source": [
        "#Importing Libraries\n",
        "library(dplyr)\n",
        "library(rvest)"
      ]
    },
    {
      "cell_type": "code",
      "source": [
        "#URL Site \n",
        "url <- \"https://www.vinylengine.com/turntable-database.php?make=Marantz&mdl=&sort=8&ascdesc=DESC&search=search&drive=dd&motor=any&control=any&auto=any&changer=any\"\n",
        "pagina <- read_html(url)"
      ],
      "metadata": {
        "id": "Q4A0rqUB8b_B"
      },
      "execution_count": null,
      "outputs": []
    },
    {
      "cell_type": "code",
      "source": [
        "#Extracting Models\n",
        "model_turntable <- pagina %>% html_nodes(\".tt-database_model_cell a\")%>% html_text()"
      ],
      "metadata": {
        "id": "Vizp9Qfh9YZH"
      },
      "execution_count": null,
      "outputs": []
    },
    {
      "cell_type": "code",
      "source": [
        "#Extracting Drives\n",
        "drive_turntable <- pagina %>% html_nodes(\".tt-database_row:nth-child(1) .tt-database_cell:nth-child(1) b , .tt-database_row:nth-child(1) .tt-database_cell:nth-child(1)\")%>% html_text()\n"
      ],
      "metadata": {
        "id": "EdiodUiV_F9R"
      },
      "execution_count": null,
      "outputs": []
    },
    {
      "cell_type": "code",
      "source": [
        "#Extracting Year of Manufacture\n",
        "year_turntable <- pagina %>% html_nodes(\".tt-database_row:nth-child(5) .tt-database_cell:nth-child(2)\")%>% html_text()"
      ],
      "metadata": {
        "id": "khi5mD8S_oXJ"
      },
      "execution_count": null,
      "outputs": []
    },
    {
      "cell_type": "code",
      "source": [
        "#Extracting Wow & Flutter\n",
        "wf_turntable <- pagina %>% html_nodes(\".tt-database_row:nth-child(3) .tt-database_cell:nth-child(2)\")%>% html_text()"
      ],
      "metadata": {
        "id": "YQvDlWSlAEy9"
      },
      "execution_count": null,
      "outputs": []
    },
    {
      "cell_type": "code",
      "source": [
        "#Creating Data Frame\n",
        "db_turntable <- data.frame(model_turntable,drive_turntable,year_turntable,wf_turntable)"
      ],
      "metadata": {
        "id": "m5CSj0IFCv8V"
      },
      "execution_count": null,
      "outputs": []
    },
    {
      "cell_type": "code",
      "source": [
        "db_turntable"
      ],
      "metadata": {
        "colab": {
          "base_uri": "https://localhost:8080/",
          "height": 1000
        },
        "id": "AG9U32e4DG_W",
        "outputId": "e3c67f15-5102-427b-c32d-2a78e4cced76"
      },
      "execution_count": null,
      "outputs": [
        {
          "output_type": "display_data",
          "data": {
            "text/html": [
              "<table class=\"dataframe\">\n",
              "<caption>A data.frame: 40 × 4</caption>\n",
              "<thead>\n",
              "\t<tr><th scope=col>model_turntable</th><th scope=col>drive_turntable</th><th scope=col>year_turntable</th><th scope=col>wf_turntable</th></tr>\n",
              "\t<tr><th scope=col>&lt;chr&gt;</th><th scope=col>&lt;chr&gt;</th><th scope=col>&lt;chr&gt;</th><th scope=col>&lt;chr&gt;</th></tr>\n",
              "</thead>\n",
              "<tbody>\n",
              "\t<tr><td>TT275        </td><td>DriveDirect Drive</td><td>Year1989</td><td>Wow and Flutter0.04% wrms </td></tr>\n",
              "\t<tr><td>TT530        </td><td>Drive            </td><td>Year1984</td><td>Wow and Flutter0.12% wrms </td></tr>\n",
              "\t<tr><td>TT530        </td><td>DriveDirect Drive</td><td>Year1983</td><td>Wow and Flutter0.15% wrms </td></tr>\n",
              "\t<tr><td>TT6200       </td><td>Drive            </td><td>Year1982</td><td>Wow and Flutter0.03% wrms </td></tr>\n",
              "\t<tr><td>TT4200       </td><td>DriveDirect Drive</td><td>Year1982</td><td>Wow and Flutter0.04% wrms </td></tr>\n",
              "\t<tr><td>TT2200       </td><td>Drive            </td><td>Year1982</td><td>Wow and Flutter0.04% wrms </td></tr>\n",
              "\t<tr><td>TT2200       </td><td>DriveDirect Drive</td><td>Year1982</td><td>Wow and Flutter0.06% wrms </td></tr>\n",
              "\t<tr><td>TT4200       </td><td>Drive            </td><td>Year1982</td><td>Wow and Flutter0.06% wrms </td></tr>\n",
              "\t<tr><td>TT6200       </td><td>DriveDirect Drive</td><td>Year1982</td><td>Wow and Flutter0.05% wrms </td></tr>\n",
              "\t<tr><td>TT1000 Esotec</td><td>Drive            </td><td>Year1982</td><td>Wow and Flutter0.023% wrms</td></tr>\n",
              "\t<tr><td>TT6000       </td><td>DriveDirect Drive</td><td>Year1981</td><td>Wow and Flutter0.025% wrms</td></tr>\n",
              "\t<tr><td>6370Q        </td><td>Drive            </td><td>Year1981</td><td>Wow and Flutter0.02% wrms </td></tr>\n",
              "\t<tr><td>TT4000       </td><td>DriveDirect Drive</td><td>Year1981</td><td>Wow and Flutter0.025% wrms</td></tr>\n",
              "\t<tr><td>TT2000       </td><td>Drive            </td><td>Year1981</td><td>Wow and Flutter0.03% wrms </td></tr>\n",
              "\t<tr><td>6300         </td><td>DriveDirect Drive</td><td>Year1977</td><td>Wow and Flutter0.05% wrms </td></tr>\n",
              "\t<tr><td>6320         </td><td>Drive            </td><td>Year1977</td><td>Wow and Flutter0.04% wrms </td></tr>\n",
              "\t<tr><td>TT8001       </td><td>DriveDirect Drive</td><td>Year    </td><td>Wow and Flutter           </td></tr>\n",
              "\t<tr><td>6170         </td><td>Drive            </td><td>Year    </td><td>Wow and Flutter0.03% wrms </td></tr>\n",
              "\t<tr><td>6350         </td><td>DriveDirect Drive</td><td>Year    </td><td>Wow and Flutter0.06% wrms </td></tr>\n",
              "\t<tr><td>6270Q        </td><td>Drive            </td><td>Year    </td><td>Wow and Flutter0.025% wrms</td></tr>\n",
              "\t<tr><td>TT275        </td><td>DriveDirect Drive</td><td>Year1989</td><td>Wow and Flutter0.04% wrms </td></tr>\n",
              "\t<tr><td>TT530        </td><td>Drive            </td><td>Year1984</td><td>Wow and Flutter0.12% wrms </td></tr>\n",
              "\t<tr><td>TT530        </td><td>DriveDirect Drive</td><td>Year1983</td><td>Wow and Flutter0.15% wrms </td></tr>\n",
              "\t<tr><td>TT6200       </td><td>Drive            </td><td>Year1982</td><td>Wow and Flutter0.03% wrms </td></tr>\n",
              "\t<tr><td>TT4200       </td><td>DriveDirect Drive</td><td>Year1982</td><td>Wow and Flutter0.04% wrms </td></tr>\n",
              "\t<tr><td>TT2200       </td><td>Drive            </td><td>Year1982</td><td>Wow and Flutter0.04% wrms </td></tr>\n",
              "\t<tr><td>TT2200       </td><td>DriveDirect Drive</td><td>Year1982</td><td>Wow and Flutter0.06% wrms </td></tr>\n",
              "\t<tr><td>TT4200       </td><td>Drive            </td><td>Year1982</td><td>Wow and Flutter0.06% wrms </td></tr>\n",
              "\t<tr><td>TT6200       </td><td>DriveDirect Drive</td><td>Year1982</td><td>Wow and Flutter0.05% wrms </td></tr>\n",
              "\t<tr><td>TT1000 Esotec</td><td>Drive            </td><td>Year1982</td><td>Wow and Flutter0.023% wrms</td></tr>\n",
              "\t<tr><td>TT6000       </td><td>DriveDirect Drive</td><td>Year1981</td><td>Wow and Flutter0.025% wrms</td></tr>\n",
              "\t<tr><td>6370Q        </td><td>Drive            </td><td>Year1981</td><td>Wow and Flutter0.02% wrms </td></tr>\n",
              "\t<tr><td>TT4000       </td><td>DriveDirect Drive</td><td>Year1981</td><td>Wow and Flutter0.025% wrms</td></tr>\n",
              "\t<tr><td>TT2000       </td><td>Drive            </td><td>Year1981</td><td>Wow and Flutter0.03% wrms </td></tr>\n",
              "\t<tr><td>6300         </td><td>DriveDirect Drive</td><td>Year1977</td><td>Wow and Flutter0.05% wrms </td></tr>\n",
              "\t<tr><td>6320         </td><td>Drive            </td><td>Year1977</td><td>Wow and Flutter0.04% wrms </td></tr>\n",
              "\t<tr><td>TT8001       </td><td>DriveDirect Drive</td><td>Year    </td><td>Wow and Flutter           </td></tr>\n",
              "\t<tr><td>6170         </td><td>Drive            </td><td>Year    </td><td>Wow and Flutter0.03% wrms </td></tr>\n",
              "\t<tr><td>6350         </td><td>DriveDirect Drive</td><td>Year    </td><td>Wow and Flutter0.06% wrms </td></tr>\n",
              "\t<tr><td>6270Q        </td><td>Drive            </td><td>Year    </td><td>Wow and Flutter0.025% wrms</td></tr>\n",
              "</tbody>\n",
              "</table>\n"
            ],
            "text/markdown": "\nA data.frame: 40 × 4\n\n| model_turntable &lt;chr&gt; | drive_turntable &lt;chr&gt; | year_turntable &lt;chr&gt; | wf_turntable &lt;chr&gt; |\n|---|---|---|---|\n| TT275         | DriveDirect Drive | Year1989 | Wow and Flutter0.04% wrms  |\n| TT530         | Drive             | Year1984 | Wow and Flutter0.12% wrms  |\n| TT530         | DriveDirect Drive | Year1983 | Wow and Flutter0.15% wrms  |\n| TT6200        | Drive             | Year1982 | Wow and Flutter0.03% wrms  |\n| TT4200        | DriveDirect Drive | Year1982 | Wow and Flutter0.04% wrms  |\n| TT2200        | Drive             | Year1982 | Wow and Flutter0.04% wrms  |\n| TT2200        | DriveDirect Drive | Year1982 | Wow and Flutter0.06% wrms  |\n| TT4200        | Drive             | Year1982 | Wow and Flutter0.06% wrms  |\n| TT6200        | DriveDirect Drive | Year1982 | Wow and Flutter0.05% wrms  |\n| TT1000 Esotec | Drive             | Year1982 | Wow and Flutter0.023% wrms |\n| TT6000        | DriveDirect Drive | Year1981 | Wow and Flutter0.025% wrms |\n| 6370Q         | Drive             | Year1981 | Wow and Flutter0.02% wrms  |\n| TT4000        | DriveDirect Drive | Year1981 | Wow and Flutter0.025% wrms |\n| TT2000        | Drive             | Year1981 | Wow and Flutter0.03% wrms  |\n| 6300          | DriveDirect Drive | Year1977 | Wow and Flutter0.05% wrms  |\n| 6320          | Drive             | Year1977 | Wow and Flutter0.04% wrms  |\n| TT8001        | DriveDirect Drive | Year     | Wow and Flutter            |\n| 6170          | Drive             | Year     | Wow and Flutter0.03% wrms  |\n| 6350          | DriveDirect Drive | Year     | Wow and Flutter0.06% wrms  |\n| 6270Q         | Drive             | Year     | Wow and Flutter0.025% wrms |\n| TT275         | DriveDirect Drive | Year1989 | Wow and Flutter0.04% wrms  |\n| TT530         | Drive             | Year1984 | Wow and Flutter0.12% wrms  |\n| TT530         | DriveDirect Drive | Year1983 | Wow and Flutter0.15% wrms  |\n| TT6200        | Drive             | Year1982 | Wow and Flutter0.03% wrms  |\n| TT4200        | DriveDirect Drive | Year1982 | Wow and Flutter0.04% wrms  |\n| TT2200        | Drive             | Year1982 | Wow and Flutter0.04% wrms  |\n| TT2200        | DriveDirect Drive | Year1982 | Wow and Flutter0.06% wrms  |\n| TT4200        | Drive             | Year1982 | Wow and Flutter0.06% wrms  |\n| TT6200        | DriveDirect Drive | Year1982 | Wow and Flutter0.05% wrms  |\n| TT1000 Esotec | Drive             | Year1982 | Wow and Flutter0.023% wrms |\n| TT6000        | DriveDirect Drive | Year1981 | Wow and Flutter0.025% wrms |\n| 6370Q         | Drive             | Year1981 | Wow and Flutter0.02% wrms  |\n| TT4000        | DriveDirect Drive | Year1981 | Wow and Flutter0.025% wrms |\n| TT2000        | Drive             | Year1981 | Wow and Flutter0.03% wrms  |\n| 6300          | DriveDirect Drive | Year1977 | Wow and Flutter0.05% wrms  |\n| 6320          | Drive             | Year1977 | Wow and Flutter0.04% wrms  |\n| TT8001        | DriveDirect Drive | Year     | Wow and Flutter            |\n| 6170          | Drive             | Year     | Wow and Flutter0.03% wrms  |\n| 6350          | DriveDirect Drive | Year     | Wow and Flutter0.06% wrms  |\n| 6270Q         | Drive             | Year     | Wow and Flutter0.025% wrms |\n\n",
            "text/latex": "A data.frame: 40 × 4\n\\begin{tabular}{llll}\n model\\_turntable & drive\\_turntable & year\\_turntable & wf\\_turntable\\\\\n <chr> & <chr> & <chr> & <chr>\\\\\n\\hline\n\t TT275         & DriveDirect Drive & Year1989 & Wow and Flutter0.04\\% wrms \\\\\n\t TT530         & Drive             & Year1984 & Wow and Flutter0.12\\% wrms \\\\\n\t TT530         & DriveDirect Drive & Year1983 & Wow and Flutter0.15\\% wrms \\\\\n\t TT6200        & Drive             & Year1982 & Wow and Flutter0.03\\% wrms \\\\\n\t TT4200        & DriveDirect Drive & Year1982 & Wow and Flutter0.04\\% wrms \\\\\n\t TT2200        & Drive             & Year1982 & Wow and Flutter0.04\\% wrms \\\\\n\t TT2200        & DriveDirect Drive & Year1982 & Wow and Flutter0.06\\% wrms \\\\\n\t TT4200        & Drive             & Year1982 & Wow and Flutter0.06\\% wrms \\\\\n\t TT6200        & DriveDirect Drive & Year1982 & Wow and Flutter0.05\\% wrms \\\\\n\t TT1000 Esotec & Drive             & Year1982 & Wow and Flutter0.023\\% wrms\\\\\n\t TT6000        & DriveDirect Drive & Year1981 & Wow and Flutter0.025\\% wrms\\\\\n\t 6370Q         & Drive             & Year1981 & Wow and Flutter0.02\\% wrms \\\\\n\t TT4000        & DriveDirect Drive & Year1981 & Wow and Flutter0.025\\% wrms\\\\\n\t TT2000        & Drive             & Year1981 & Wow and Flutter0.03\\% wrms \\\\\n\t 6300          & DriveDirect Drive & Year1977 & Wow and Flutter0.05\\% wrms \\\\\n\t 6320          & Drive             & Year1977 & Wow and Flutter0.04\\% wrms \\\\\n\t TT8001        & DriveDirect Drive & Year     & Wow and Flutter           \\\\\n\t 6170          & Drive             & Year     & Wow and Flutter0.03\\% wrms \\\\\n\t 6350          & DriveDirect Drive & Year     & Wow and Flutter0.06\\% wrms \\\\\n\t 6270Q         & Drive             & Year     & Wow and Flutter0.025\\% wrms\\\\\n\t TT275         & DriveDirect Drive & Year1989 & Wow and Flutter0.04\\% wrms \\\\\n\t TT530         & Drive             & Year1984 & Wow and Flutter0.12\\% wrms \\\\\n\t TT530         & DriveDirect Drive & Year1983 & Wow and Flutter0.15\\% wrms \\\\\n\t TT6200        & Drive             & Year1982 & Wow and Flutter0.03\\% wrms \\\\\n\t TT4200        & DriveDirect Drive & Year1982 & Wow and Flutter0.04\\% wrms \\\\\n\t TT2200        & Drive             & Year1982 & Wow and Flutter0.04\\% wrms \\\\\n\t TT2200        & DriveDirect Drive & Year1982 & Wow and Flutter0.06\\% wrms \\\\\n\t TT4200        & Drive             & Year1982 & Wow and Flutter0.06\\% wrms \\\\\n\t TT6200        & DriveDirect Drive & Year1982 & Wow and Flutter0.05\\% wrms \\\\\n\t TT1000 Esotec & Drive             & Year1982 & Wow and Flutter0.023\\% wrms\\\\\n\t TT6000        & DriveDirect Drive & Year1981 & Wow and Flutter0.025\\% wrms\\\\\n\t 6370Q         & Drive             & Year1981 & Wow and Flutter0.02\\% wrms \\\\\n\t TT4000        & DriveDirect Drive & Year1981 & Wow and Flutter0.025\\% wrms\\\\\n\t TT2000        & Drive             & Year1981 & Wow and Flutter0.03\\% wrms \\\\\n\t 6300          & DriveDirect Drive & Year1977 & Wow and Flutter0.05\\% wrms \\\\\n\t 6320          & Drive             & Year1977 & Wow and Flutter0.04\\% wrms \\\\\n\t TT8001        & DriveDirect Drive & Year     & Wow and Flutter           \\\\\n\t 6170          & Drive             & Year     & Wow and Flutter0.03\\% wrms \\\\\n\t 6350          & DriveDirect Drive & Year     & Wow and Flutter0.06\\% wrms \\\\\n\t 6270Q         & Drive             & Year     & Wow and Flutter0.025\\% wrms\\\\\n\\end{tabular}\n",
            "text/plain": [
              "   model_turntable drive_turntable   year_turntable wf_turntable              \n",
              "1  TT275           DriveDirect Drive Year1989       Wow and Flutter0.04% wrms \n",
              "2  TT530           Drive             Year1984       Wow and Flutter0.12% wrms \n",
              "3  TT530           DriveDirect Drive Year1983       Wow and Flutter0.15% wrms \n",
              "4  TT6200          Drive             Year1982       Wow and Flutter0.03% wrms \n",
              "5  TT4200          DriveDirect Drive Year1982       Wow and Flutter0.04% wrms \n",
              "6  TT2200          Drive             Year1982       Wow and Flutter0.04% wrms \n",
              "7  TT2200          DriveDirect Drive Year1982       Wow and Flutter0.06% wrms \n",
              "8  TT4200          Drive             Year1982       Wow and Flutter0.06% wrms \n",
              "9  TT6200          DriveDirect Drive Year1982       Wow and Flutter0.05% wrms \n",
              "10 TT1000 Esotec   Drive             Year1982       Wow and Flutter0.023% wrms\n",
              "11 TT6000          DriveDirect Drive Year1981       Wow and Flutter0.025% wrms\n",
              "12 6370Q           Drive             Year1981       Wow and Flutter0.02% wrms \n",
              "13 TT4000          DriveDirect Drive Year1981       Wow and Flutter0.025% wrms\n",
              "14 TT2000          Drive             Year1981       Wow and Flutter0.03% wrms \n",
              "15 6300            DriveDirect Drive Year1977       Wow and Flutter0.05% wrms \n",
              "16 6320            Drive             Year1977       Wow and Flutter0.04% wrms \n",
              "17 TT8001          DriveDirect Drive Year           Wow and Flutter           \n",
              "18 6170            Drive             Year           Wow and Flutter0.03% wrms \n",
              "19 6350            DriveDirect Drive Year           Wow and Flutter0.06% wrms \n",
              "20 6270Q           Drive             Year           Wow and Flutter0.025% wrms\n",
              "21 TT275           DriveDirect Drive Year1989       Wow and Flutter0.04% wrms \n",
              "22 TT530           Drive             Year1984       Wow and Flutter0.12% wrms \n",
              "23 TT530           DriveDirect Drive Year1983       Wow and Flutter0.15% wrms \n",
              "24 TT6200          Drive             Year1982       Wow and Flutter0.03% wrms \n",
              "25 TT4200          DriveDirect Drive Year1982       Wow and Flutter0.04% wrms \n",
              "26 TT2200          Drive             Year1982       Wow and Flutter0.04% wrms \n",
              "27 TT2200          DriveDirect Drive Year1982       Wow and Flutter0.06% wrms \n",
              "28 TT4200          Drive             Year1982       Wow and Flutter0.06% wrms \n",
              "29 TT6200          DriveDirect Drive Year1982       Wow and Flutter0.05% wrms \n",
              "30 TT1000 Esotec   Drive             Year1982       Wow and Flutter0.023% wrms\n",
              "31 TT6000          DriveDirect Drive Year1981       Wow and Flutter0.025% wrms\n",
              "32 6370Q           Drive             Year1981       Wow and Flutter0.02% wrms \n",
              "33 TT4000          DriveDirect Drive Year1981       Wow and Flutter0.025% wrms\n",
              "34 TT2000          Drive             Year1981       Wow and Flutter0.03% wrms \n",
              "35 6300            DriveDirect Drive Year1977       Wow and Flutter0.05% wrms \n",
              "36 6320            Drive             Year1977       Wow and Flutter0.04% wrms \n",
              "37 TT8001          DriveDirect Drive Year           Wow and Flutter           \n",
              "38 6170            Drive             Year           Wow and Flutter0.03% wrms \n",
              "39 6350            DriveDirect Drive Year           Wow and Flutter0.06% wrms \n",
              "40 6270Q           Drive             Year           Wow and Flutter0.025% wrms"
            ]
          },
          "metadata": {}
        }
      ]
    }
  ]
}